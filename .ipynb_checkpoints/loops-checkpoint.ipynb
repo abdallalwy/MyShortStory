{
 "cells": [
  {
   "cell_type": "markdown",
   "metadata": {},
   "source": [
    "# Trying **Loops** with ~~java~~ python.\n",
    "1. **def** defines/sets the functions  \n",
    "2. **sum_loops** is the name of the function  \n",
    "3. **n** is the input variable  \n",
    "4. **for** indicates that you are going to loop through a set of variables, in our case its *n* and is indicated using *in*  \n",
    "5. **x** is our local variable that is set to help in the calculation. It represents each iteration from our range/list  \n",
    "## It is necessary to call the function, sum_loops(n), and set the variable *n* "
   ]
  },
  {
   "cell_type": "code",
   "execution_count": 63,
   "metadata": {
    "scrolled": true
   },
   "outputs": [
    {
     "name": "stdout",
     "output_type": "stream",
     "text": [
      "26634\n"
     ]
    }
   ],
   "source": [
    "def sum_loops (n):\n",
    "    \n",
    "    sum = 0\n",
    "    \n",
    "    for x in n:\n",
    "        \n",
    "        sum += x\n",
    "    print (sum)\n",
    "    \n",
    "n = (806,419,665,697,369,963,143,190,918,889,1091,49,145,657,979,1060,1016,1108,898,592,93,854,1017,749,1238,1133,406,556,934,95,1107,439,504,472,1126,863,134,1260) \n",
    "sum_loops (n)"
   ]
  },
  {
   "cell_type": "code",
   "execution_count": null,
   "metadata": {},
   "outputs": [],
   "source": []
  }
 ],
 "metadata": {
  "kernelspec": {
   "display_name": "Python 3",
   "language": "python",
   "name": "python3"
  },
  "language_info": {
   "codemirror_mode": {
    "name": "ipython",
    "version": 3
   },
   "file_extension": ".py",
   "mimetype": "text/x-python",
   "name": "python",
   "nbconvert_exporter": "python",
   "pygments_lexer": "ipython3",
   "version": "3.6.5"
  }
 },
 "nbformat": 4,
 "nbformat_minor": 2
}
