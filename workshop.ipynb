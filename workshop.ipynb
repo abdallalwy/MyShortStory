{
 "cells": [
  {
   "cell_type": "markdown",
   "metadata": {},
   "source": [
    "# Demo Jupyter Notebook\n",
    "\n",
    "This notebook is a demonstration of the power of jupyter that was made for showing Abdallah and Mostafa certain essential packages for python. In this miniworkshop style presentation, I showed the following code:\n",
    "\n",
    "```python\n",
    "def greet(name):\n",
    "    return \"Hello, {} {}\".format(name, \"you magnificent creature\")\n",
    "\n",
    "def squareNumber(x):\n",
    "    return x**2\n",
    "```\n",
    "\n",
    "~~Overall it was a useful workshop.~~ No, it sucked major balls.\n"
   ]
  },
  {
   "cell_type": "code",
   "execution_count": 10,
   "metadata": {},
   "outputs": [],
   "source": [
    "def greet(name):\n",
    "    return \"Hello, {} {}\".format(name, \"you magnificent creature\")\n",
    "\n",
    "def squareNumber(x):\n",
    "    return x**2"
   ]
  },
  {
   "cell_type": "code",
   "execution_count": 11,
   "metadata": {},
   "outputs": [
    {
     "name": "stdout",
     "output_type": "stream",
     "text": [
      "Hello, Abdallah you magnificent creature. You are 576 years old.\n"
     ]
    }
   ],
   "source": [
    "print(greet(\"Abdallah\") + \". You are {} years old.\".format(squareNumber(24)))"
   ]
  }
 ],
 "metadata": {
  "kernelspec": {
   "display_name": "Python 3",
   "language": "python",
   "name": "python3"
  },
  "language_info": {
   "codemirror_mode": {
    "name": "ipython",
    "version": 3
   },
   "file_extension": ".py",
   "mimetype": "text/x-python",
   "name": "python",
   "nbconvert_exporter": "python",
   "pygments_lexer": "ipython3",
   "version": "3.6.5"
  }
 },
 "nbformat": 4,
 "nbformat_minor": 2
}
